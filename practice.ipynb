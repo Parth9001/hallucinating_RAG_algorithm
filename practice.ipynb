{
 "cells": [
  {
   "cell_type": "code",
   "execution_count": 86,
   "metadata": {},
   "outputs": [],
   "source": [
    "import spacy\n",
    "from spacy.lang.en import English\n",
    "from spacy.pipeline import EntityRuler\n",
    "import json"
   ]
  },
  {
   "cell_type": "code",
   "execution_count": 87,
   "metadata": {},
   "outputs": [],
   "source": [
    "def load_file(file):\n",
    "    with open(file, 'r', encoding='utf-8') as f:\n",
    "        data = json.load(f)\n",
    "    return data"
   ]
  },
  {
   "cell_type": "code",
   "execution_count": 110,
   "metadata": {},
   "outputs": [],
   "source": [
    "def save_data(file, data):\n",
    "    with open (file, 'w', encoding='utf-8') as f:\n",
    "        json.dump(data, f, indent=4)"
   ]
  },
  {
   "cell_type": "code",
   "execution_count": 111,
   "metadata": {},
   "outputs": [],
   "source": [
    "def generate_better_characters(file):\n",
    "    data = load_file(file)\n",
    "    print(len(data))\n",
    "    new_data = []\n",
    "    \n",
    "    for item in data:\n",
    "        new_data.append(item)\n",
    "    \n",
    "    for item in data:\n",
    "        item = item.replace(\"The\", \"\").replace(\"the\", \"\").replace(\"And\", \"\").replace(\"and\", \"\") \n",
    "        names  = item.split(\" \")\n",
    "        for name in names:\n",
    "            name = name.strip()\n",
    "            new_data.append(name)\n",
    "\n",
    "        if \"(\" in item:\n",
    "            names = item.split(\"(\")\n",
    "            for name in names:\n",
    "                name = name.replace(\"(\", \"\").strip()\n",
    "                new_data.append(name)\n",
    "        \n",
    "        if \",\" in item:\n",
    "            names = item.split(\",\")\n",
    "            for name in names:\n",
    "                name = name.replace(\"and\", \"\").strip()\n",
    "                if \" \" in name:\n",
    "                    new_names = name.split()\n",
    "                    for x in new_names:\n",
    "                        x = x.strip()\n",
    "                        new_data.append(x)\n",
    "                new_data.append(name)\n",
    "    print(len(new_data))\n",
    "    final_data = []\n",
    "    titles = [\"Dr.\", \"Professor\", \"Mr.\", \"Mrs.\", \"Ms.\", \"Miss\", \"Aunt\", \"Uncle\", \"Mr. and Mrs.\"]\n",
    "\n",
    "    for character in new_data:\n",
    "        if \"\" != character:\n",
    "            final_data.append(character)\n",
    "            for title in titles:\n",
    "                titled_char = f\"{title} {character}\"\n",
    "                final_data.append(titled_char)\n",
    "    print(len(final_data))\n",
    "\n",
    "    final_data = list(set(final_data))\n",
    "    print(len(final_data))\n",
    "    final_data.sort()\n",
    "    return final_data"
   ]
  },
  {
   "cell_type": "code",
   "execution_count": 112,
   "metadata": {},
   "outputs": [],
   "source": [
    "def create_training_data(file, type):\n",
    "    data = generate_better_characters(file)\n",
    "    patterns = []\n",
    "    for item in data:\n",
    "        pattern = {\n",
    "            \"label\": type,\n",
    "            \"pattern\": item\n",
    "        }\n",
    "        patterns.append(pattern)\n",
    "    return patterns"
   ]
  },
  {
   "cell_type": "code",
   "execution_count": 113,
   "metadata": {},
   "outputs": [],
   "source": [
    "def generate_rules(patterns):\n",
    "    nlp = English()\n",
    "    ruler = EntityRuler(nlp, overwrite_ents=True)\n",
    "    ruler = nlp.add_pipe('entity_ruler')\n",
    "    ruler.add_patterns(patterns)\n",
    "    nlp.to_disk(\"./hp_ner\")"
   ]
  },
  {
   "cell_type": "code",
   "execution_count": 114,
   "metadata": {},
   "outputs": [],
   "source": [
    "def test_model(model, text):\n",
    "    doc = model(text)\n",
    "    results = []\n",
    "    for ent in doc.ents:\n",
    "        results.append(ent.text)\n",
    "    return results"
   ]
  },
  {
   "cell_type": "code",
   "execution_count": 115,
   "metadata": {},
   "outputs": [
    {
     "name": "stdout",
     "output_type": "stream",
     "text": [
      "207\n",
      "622\n",
      "6160\n",
      "5119\n"
     ]
    }
   ],
   "source": [
    "hp_chars = generate_better_characters('./data/hp_characters.json')\n",
    "# patterns = create_training_data(\"./data/hp_characters.json\", \"PERSON\")\n",
    "# generate_rules(patterns)"
   ]
  },
  {
   "cell_type": "code",
   "execution_count": 116,
   "metadata": {},
   "outputs": [],
   "source": [
    "nlp = spacy.load(\"./hp_ner\")\n",
    "ie_data = {}"
   ]
  },
  {
   "cell_type": "code",
   "execution_count": 117,
   "metadata": {},
   "outputs": [],
   "source": [
    "with open (\"./data/hp.txt\")as f:\n",
    "    text = f.read()\n",
    "    chapters = text.split(\"CHAPTER\")[1:]\n",
    "    for chapter in chapters:\n",
    "        chapter_num, chapter_title = chapter.split(\"\\n\\n\")[0:2]\n",
    "        chapter_num = chapter_num.strip()\n",
    "        \n",
    "        segments = chapter.split(\"\\n\\n\")[2:]\n",
    "        hits = []\n",
    "        for segment in segments:\n",
    "            segment = segment.strip()\n",
    "            segment = segment.replace(\"\\n\", \" \")\n",
    "            results = test_model(nlp, segment)\n",
    "            for result in results:\n",
    "                hits.append(result)\n",
    "        ie_data[chapter_num] = hits"
   ]
  },
  {
   "cell_type": "code",
   "execution_count": 118,
   "metadata": {},
   "outputs": [],
   "source": [
    "save_data(\"./data/hp_data.json\", ie_data)"
   ]
  },
  {
   "cell_type": "code",
   "execution_count": null,
   "metadata": {},
   "outputs": [],
   "source": []
  }
 ],
 "metadata": {
  "kernelspec": {
   "display_name": "env",
   "language": "python",
   "name": "python3"
  },
  "language_info": {
   "codemirror_mode": {
    "name": "ipython",
    "version": 3
   },
   "file_extension": ".py",
   "mimetype": "text/x-python",
   "name": "python",
   "nbconvert_exporter": "python",
   "pygments_lexer": "ipython3",
   "version": "3.10.13"
  },
  "orig_nbformat": 4,
  "vscode": {
   "interpreter": {
    "hash": "55b93f807c0e029f60b858b1785a08f6b87155a7c7c977b6e915f50767609685"
   }
  }
 },
 "nbformat": 4,
 "nbformat_minor": 2
}
